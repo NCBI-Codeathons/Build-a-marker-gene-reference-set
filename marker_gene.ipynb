{
 "cells": [
  {
   "cell_type": "markdown",
   "metadata": {},
   "source": [
    "# Marker gene database maker\n",
    "The purpose of this jupyter notebook is to run through a workflow of creating a blast database containing protein sequences of a given gene from a wide range of taxonomic groups that can be used to validate newly submitted sequences against. \n",
    "\n",
    "Broadly, this process involves the following steps: \n",
    "\n",
    "1. Starting with an Entrez query for the Gene database, download sequences and metadata for genes, transcripts and proteins using NCBI Datasets\n",
    "2. Parse the data archive from step 1 to tabulate names and symbols for review\n",
    "3. Parse the data archive from step 1 to tabulate variability in the sequence lengths for review \n",
    "4. Given a set of taxonomic group identifiers, tabulate the number of sequences for each group that are present in the data archive\n",
    "5. Extract sequences from each taxonomic node and generate all-vs-all BLAST alignments \n",
    "6. Review the BLAST tabular output to make a list of accessions that are outliers or incorrect that need to be removed from the final BLAST database \n",
    "7. Generate a final BLAST database that can be used with VADR and other tools for validating newly submitted sequences."
   ]
  },
  {
   "cell_type": "markdown",
   "metadata": {},
   "source": [
    "## Download data\n",
    "\n",
    "Sequence and metadata are downloaded using NCBI Datasets using an Entrez query provided by the user. "
   ]
  },
  {
   "cell_type": "code",
   "execution_count": null,
   "metadata": {},
   "outputs": [],
   "source": [
    "## specify Entrez query and output filename\n",
    "entrez_query = 'primates [ORGN] AND cytb [GENE] AND source mitochondrion [PROP] NOT rnatype mrna [PROP] NOT srcdb pdb [PROP] NOT uncultured NOT unverified'\n",
    "email = 'kodalivk@ncbi.nlm.nih.gov'\n",
    "output_file = 'ncbi_dataset.zip'"
   ]
  },
  {
   "cell_type": "code",
   "execution_count": null,
   "metadata": {},
   "outputs": [],
   "source": [
    "import scripts.obtain_gene_datasets as dl\n",
    "\n",
    "gene_ids_file = 'gene_ids.txt'\n",
    "dl.populate_gene_ids_file(entrez_query, email, gene_ids_file)\n",
    "json_data = dl.format_file_data_into_json(gene_ids_file)\n",
    "dl.obtain_gene_datasets(json_data, output_file)"
   ]
  },
  {
   "cell_type": "markdown",
   "metadata": {},
   "source": [
    "## Unzip Datasets archive"
   ]
  },
  {
   "cell_type": "code",
   "execution_count": null,
   "metadata": {
    "tags": []
   },
   "outputs": [],
   "source": [
    "!unzip -o {output_file}"
   ]
  },
  {
   "cell_type": "markdown",
   "metadata": {},
   "source": [
    "## Tabulate unique names"
   ]
  },
  {
   "cell_type": "code",
   "execution_count": null,
   "metadata": {},
   "outputs": [],
   "source": [
    "bdbag = 'ncbi_dataset/'\n",
    "data_table = bdbag + 'data/data_table.tsv'\n",
    "gene_names = 'gene_names.tsv'"
   ]
  },
  {
   "cell_type": "code",
   "execution_count": null,
   "metadata": {
    "tags": []
   },
   "outputs": [],
   "source": [
    "%%bash -s {data_table} {gene_names}\n",
    "\n",
    "data_table=$1\n",
    "gene_names=$2\n",
    "\n",
    "python3 scripts/unique.py ${data_table} > ${gene_names}"
   ]
  },
  {
   "cell_type": "code",
   "execution_count": null,
   "metadata": {
    "tags": []
   },
   "outputs": [],
   "source": [
    "import pandas as pd \n",
    "\n",
    "df = pd.read_csv(gene_names, sep='\\t', header=None, names=['Gene Name', 'Count', 'Gene IDs'])\n",
    "display(df.sort_values(by=['Count'], ascending=False))"
   ]
  },
  {
   "cell_type": "markdown",
   "metadata": {},
   "source": [
    "## Identify outliers based on protein size"
   ]
  },
  {
   "cell_type": "code",
   "execution_count": null,
   "metadata": {},
   "outputs": [],
   "source": [
    "data_table_df = pd.read_csv(data_table, sep='\\t', index_col=1)\n",
    "data_table_df.head()"
   ]
  },
  {
   "cell_type": "code",
   "execution_count": null,
   "metadata": {},
   "outputs": [],
   "source": [
    "data_table_df[['transcript_length', 'protein_length']].describe()"
   ]
  },
  {
   "cell_type": "code",
   "execution_count": null,
   "metadata": {},
   "outputs": [],
   "source": [
    "## filter sequences that are either too long or too short\n",
    "\n",
    "min_len = 350\n",
    "max_len = 400\n",
    "\n",
    "rightlength = data_table_df.loc[(data_table_df['protein_length'] > min_len) & (data_table_df['protein_length'] < max_len)]\n",
    "rightlength.to_csv(data_table, sep='\\t')\n",
    "rightlength.head()\n"
   ]
  },
  {
   "cell_type": "markdown",
   "metadata": {},
   "source": [
    "## Extract sequences from specific taxonomic group(s) for further analysis\n",
    "\n",
    "Analyzing all of the sequences using all-vs-all BLAST is time-consuming. In this step, we will group the sequences into broad taxonomic groups for further analysis. "
   ]
  },
  {
   "cell_type": "code",
   "execution_count": null,
   "metadata": {
    "tags": []
   },
   "outputs": [],
   "source": [
    "acclist_for_blast = 'acclist_for_blast.tsv'\n",
    "taxids = !cut -f2 example_data/tax_nodes.tsv | head -n 3 | paste -s -d ','\n",
    "print(taxids)"
   ]
  },
  {
   "cell_type": "code",
   "execution_count": null,
   "metadata": {
    "tags": []
   },
   "outputs": [],
   "source": [
    "!python3 scripts/seqids_by_taxa.py --bdbag {bdbag} --taxids {taxids[0]} --output {acclist_for_blast} --email {email}"
   ]
  },
  {
   "cell_type": "markdown",
   "metadata": {},
   "source": [
    "## Run all-vs-all BLAST"
   ]
  },
  {
   "cell_type": "code",
   "execution_count": null,
   "metadata": {
    "tags": []
   },
   "outputs": [],
   "source": [
    "!scripts/blast_all.sh -b {bdbag} -a {acclist_for_blast} -t 6"
   ]
  },
  {
   "cell_type": "markdown",
   "metadata": {},
   "source": [
    "## Evaluate BLAST results and filter data"
   ]
  },
  {
   "cell_type": "code",
   "execution_count": null,
   "metadata": {},
   "outputs": [],
   "source": [
    "%%bash -s {acclist_for_blast}\n",
    "\n",
    "acclist_for_blast=$1\n",
    "final_acclist='final_acclist.txt'\n",
    "\n",
    "cut -f1 ${acclist_for_blast} | while read -r txid ; do \n",
    "    tbl=$(echo ${txid} | sed 's/$/_output.tsv/') ;\n",
    "    python3 scripts/blastfilter.py -i ${tbl} --pident 98 --qcov 99 ;\n",
    "done > ${final_acclist} "
   ]
  },
  {
   "cell_type": "markdown",
   "metadata": {},
   "source": [
    "## Create final BLAST database"
   ]
  },
  {
   "cell_type": "code",
   "execution_count": null,
   "metadata": {},
   "outputs": [],
   "source": [
    "final_acclist = 'final_acclist.txt'\n",
    "filename_prefix = 'cytb_genes'"
   ]
  },
  {
   "cell_type": "code",
   "execution_count": null,
   "metadata": {
    "tags": []
   },
   "outputs": [],
   "source": [
    "!scripts/make_finaldb.sh -b {bdbag} -a {final_acclist} -p {filename_prefix} -t 6"
   ]
  },
  {
   "cell_type": "code",
   "execution_count": null,
   "metadata": {},
   "outputs": [],
   "source": []
  }
 ],
 "metadata": {
  "language_info": {
   "codemirror_mode": {
    "name": "ipython",
    "version": 3
   },
   "file_extension": ".py",
   "mimetype": "text/x-python",
   "name": "python",
   "nbconvert_exporter": "python",
   "pygments_lexer": "ipython3",
   "version": "3.8.2-final"
  },
  "orig_nbformat": 2,
  "kernelspec": {
   "name": "Python 3.8.2 64-bit ('pyenv')",
   "display_name": "Python 3.8.2 64-bit ('pyenv')",
   "metadata": {
    "interpreter": {
     "hash": "6fddb8adaba09932bcc7f2d9ee20cfdad399e49d3bbd7e70385fe288d39f6273"
    }
   }
  }
 },
 "nbformat": 4,
 "nbformat_minor": 2
}