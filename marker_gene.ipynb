{
 "cells": [
  {
   "cell_type": "markdown",
   "metadata": {},
   "source": [
    "# Marker gene database maker\n",
    "The purpose of this jupyter notebook is to run through a workflow of creating a blast database containing protein sequences of a given gene from a wide range of taxonomic groups that can be used to validate newly submitted sequences against. \n",
    "\n",
    "Broadly, this process involves the following steps: \n",
    "\n",
    "1. Starting with an Entrez query for the Gene database, download sequences and metadata for genes, transcripts and proteins using NCBI Datasets\n",
    "2. Parse the data archive from step 1 to tabulate names and symbols for review\n",
    "3. Parse the data archive from step 1 to tabulate variability in the sequence lengths for review \n",
    "4. Given a set of taxonomic group identifiers, tabulate the number of sequences for each group that are present in the data archive\n",
    "5. Extract sequences from each taxonomic node and generate all-vs-all BLAST alignments \n",
    "6. Review the BLAST tabular output to make a list of accessions that are outliers or incorrect that need to be removed from the final BLAST database \n",
    "7. Generate a final BLAST database that can be used with VADR and other tools for validating newly submitted sequences."
   ]
  },
  {
   "cell_type": "markdown",
   "metadata": {},
   "source": [
    "## Download data\n",
    "\n",
    "Sequence and metadata are downloaded using NCBI Datasets using an Entrez query provided by the user. "
   ]
  },
  {
   "cell_type": "code",
   "execution_count": 17,
   "metadata": {},
   "outputs": [],
   "source": [
    "## specify Entrez query and output filename\n",
    "entrez_query = 'mammalia [ORGN] AND cytb [GENE] AND source mitochondrion [PROP] NOT rnatype mrna [PROP] NOT srcdb pdb [PROP] NOT uncultured NOT unverified'\n",
    "email = 'mcveigh@ncbi.nlm.nih.gov'\n",
    "output_file = 'ncbi_dataset.zip'"
   ]
  },
  {
   "cell_type": "code",
   "execution_count": 18,
   "metadata": {},
   "outputs": [
    {
     "name": "stdout",
     "output_type": "stream",
     "text": [
      "Gene search for query 'mammalia [ORGN] AND cytb [GENE] AND source mitochondrion [PROP] NOT rnatype mrna [PROP] NOT srcdb pdb [PROP] NOT uncultured NOT unverified' returned 1273 results\n"
     ]
    }
   ],
   "source": [
    "import scripts.obtain_gene_datasets as dl\n",
    "\n",
    "gene_ids_file = 'gene_ids.txt'\n",
    "dl.populate_gene_ids_file(entrez_query, email, gene_ids_file)\n",
    "json_data = dl.format_file_data_into_json(gene_ids_file)\n",
    "dl.obtain_gene_datasets(json_data, output_file)"
   ]
  },
  {
   "cell_type": "markdown",
   "metadata": {},
   "source": [
    "## Unzip Datasets archive"
   ]
  },
  {
   "cell_type": "code",
   "execution_count": 19,
   "metadata": {
    "tags": []
   },
   "outputs": [
    {
     "name": "stdout",
     "output_type": "stream",
     "text": [
      "Archive:  ncbi_dataset.zip\n",
      "  inflating: README.md               \n",
      "  inflating: ncbi_dataset/data/protein.faa  \n",
      "  inflating: ncbi_dataset/data/data_report.jsonl  \n",
      "  inflating: ncbi_dataset/data/data_table.tsv  \n",
      "  inflating: ncbi_dataset/data/dataset_catalog.json  \n"
     ]
    }
   ],
   "source": [
    "!unzip -o {output_file}"
   ]
  },
  {
   "cell_type": "markdown",
   "metadata": {},
   "source": [
    "## Tabulate unique names"
   ]
  },
  {
   "cell_type": "code",
   "execution_count": 20,
   "metadata": {},
   "outputs": [],
   "source": [
    "bdbag = 'ncbi_dataset/'\n",
    "data_table = bdbag + 'data/data_table.tsv'\n",
    "gene_names = 'gene_names.tsv'"
   ]
  },
  {
   "cell_type": "code",
   "execution_count": 21,
   "metadata": {
    "tags": []
   },
   "outputs": [],
   "source": [
    "%%bash -s {data_table} {gene_names}\n",
    "\n",
    "data_table=$1\n",
    "gene_names=$2\n",
    "\n",
    "python3 scripts/unique.py ${data_table} > ${gene_names}"
   ]
  },
  {
   "cell_type": "code",
   "execution_count": 22,
   "metadata": {
    "tags": []
   },
   "outputs": [
    {
     "data": {
      "text/html": [
       "<div>\n",
       "<style scoped>\n",
       "    .dataframe tbody tr th:only-of-type {\n",
       "        vertical-align: middle;\n",
       "    }\n",
       "\n",
       "    .dataframe tbody tr th {\n",
       "        vertical-align: top;\n",
       "    }\n",
       "\n",
       "    .dataframe thead th {\n",
       "        text-align: right;\n",
       "    }\n",
       "</style>\n",
       "<table border=\"1\" class=\"dataframe\">\n",
       "  <thead>\n",
       "    <tr style=\"text-align: right;\">\n",
       "      <th></th>\n",
       "      <th>Gene Name</th>\n",
       "      <th>Count</th>\n",
       "      <th>Gene IDs</th>\n",
       "    </tr>\n",
       "  </thead>\n",
       "  <tbody>\n",
       "    <tr>\n",
       "      <th>0</th>\n",
       "      <td>CYTB</td>\n",
       "      <td>1228</td>\n",
       "      <td>NaN</td>\n",
       "    </tr>\n",
       "    <tr>\n",
       "      <th>2</th>\n",
       "      <td>MT-CYTB</td>\n",
       "      <td>2</td>\n",
       "      <td>17711,26192</td>\n",
       "    </tr>\n",
       "    <tr>\n",
       "      <th>1</th>\n",
       "      <td>MT-CYB</td>\n",
       "      <td>1</td>\n",
       "      <td>4519</td>\n",
       "    </tr>\n",
       "  </tbody>\n",
       "</table>\n",
       "</div>"
      ],
      "text/plain": [
       "  Gene Name  Count     Gene IDs\n",
       "0      CYTB   1228          NaN\n",
       "2   MT-CYTB      2  17711,26192\n",
       "1    MT-CYB      1         4519"
      ]
     },
     "metadata": {},
     "output_type": "display_data"
    }
   ],
   "source": [
    "import pandas as pd \n",
    "\n",
    "df = pd.read_csv(gene_names, sep='\\t', header=None, names=['Gene Name', 'Count', 'Gene IDs'])\n",
    "display(df.sort_values(by=['Count'], ascending=False))"
   ]
  },
  {
   "cell_type": "markdown",
   "metadata": {},
   "source": [
    "## Identify outliers based on protein size"
   ]
  },
  {
   "cell_type": "code",
   "execution_count": 23,
   "metadata": {},
   "outputs": [
    {
     "data": {
      "text/html": [
       "<div>\n",
       "<style scoped>\n",
       "    .dataframe tbody tr th:only-of-type {\n",
       "        vertical-align: middle;\n",
       "    }\n",
       "\n",
       "    .dataframe tbody tr th {\n",
       "        vertical-align: top;\n",
       "    }\n",
       "\n",
       "    .dataframe thead th {\n",
       "        text-align: right;\n",
       "    }\n",
       "</style>\n",
       "<table border=\"1\" class=\"dataframe\">\n",
       "  <thead>\n",
       "    <tr style=\"text-align: right;\">\n",
       "      <th></th>\n",
       "      <th>gene_id</th>\n",
       "      <th>description</th>\n",
       "      <th>scientific_name</th>\n",
       "      <th>common_name</th>\n",
       "      <th>tax_id</th>\n",
       "      <th>genomic_range</th>\n",
       "      <th>orientation</th>\n",
       "      <th>location</th>\n",
       "      <th>gene_type</th>\n",
       "      <th>transcript_accession</th>\n",
       "      <th>transcript_name</th>\n",
       "      <th>transcript_length</th>\n",
       "      <th>transcript_cds_coords</th>\n",
       "      <th>protein_accession</th>\n",
       "      <th>isoform_name</th>\n",
       "      <th>protein_length</th>\n",
       "      <th>protein_name</th>\n",
       "    </tr>\n",
       "    <tr>\n",
       "      <th>gene_symbol</th>\n",
       "      <th></th>\n",
       "      <th></th>\n",
       "      <th></th>\n",
       "      <th></th>\n",
       "      <th></th>\n",
       "      <th></th>\n",
       "      <th></th>\n",
       "      <th></th>\n",
       "      <th></th>\n",
       "      <th></th>\n",
       "      <th></th>\n",
       "      <th></th>\n",
       "      <th></th>\n",
       "      <th></th>\n",
       "      <th></th>\n",
       "      <th></th>\n",
       "      <th></th>\n",
       "    </tr>\n",
       "  </thead>\n",
       "  <tbody>\n",
       "    <tr>\n",
       "      <th>CYTB</th>\n",
       "      <td>10020650</td>\n",
       "      <td>cytochrome b</td>\n",
       "      <td>Panthera tigris amoyensis</td>\n",
       "      <td>Amoy tiger</td>\n",
       "      <td>253258</td>\n",
       "      <td>NC_014770.1:15113-16252</td>\n",
       "      <td>+</td>\n",
       "      <td>chr MT</td>\n",
       "      <td>PROTEIN_CODING</td>\n",
       "      <td>NaN</td>\n",
       "      <td>NaN</td>\n",
       "      <td>NaN</td>\n",
       "      <td>NaN</td>\n",
       "      <td>YP_004062165.1</td>\n",
       "      <td>NaN</td>\n",
       "      <td>379</td>\n",
       "      <td>cytochrome b</td>\n",
       "    </tr>\n",
       "    <tr>\n",
       "      <th>CYTB</th>\n",
       "      <td>10079733</td>\n",
       "      <td>cytochrome b</td>\n",
       "      <td>Rattus lutreolus</td>\n",
       "      <td>Australian swamp rat</td>\n",
       "      <td>472760</td>\n",
       "      <td>NC_014858.1:14137-15279</td>\n",
       "      <td>+</td>\n",
       "      <td>chr MT</td>\n",
       "      <td>PROTEIN_CODING</td>\n",
       "      <td>NaN</td>\n",
       "      <td>NaN</td>\n",
       "      <td>NaN</td>\n",
       "      <td>NaN</td>\n",
       "      <td>YP_004123242.1</td>\n",
       "      <td>NaN</td>\n",
       "      <td>380</td>\n",
       "      <td>cytochrome b</td>\n",
       "    </tr>\n",
       "    <tr>\n",
       "      <th>CYTB</th>\n",
       "      <td>10079783</td>\n",
       "      <td>cytochrome b</td>\n",
       "      <td>Rattus tunneyi</td>\n",
       "      <td>Tunney's rat</td>\n",
       "      <td>10121</td>\n",
       "      <td>NC_014861.1:14132-15274</td>\n",
       "      <td>+</td>\n",
       "      <td>chr MT</td>\n",
       "      <td>PROTEIN_CODING</td>\n",
       "      <td>NaN</td>\n",
       "      <td>NaN</td>\n",
       "      <td>NaN</td>\n",
       "      <td>NaN</td>\n",
       "      <td>YP_004123282.1</td>\n",
       "      <td>NaN</td>\n",
       "      <td>380</td>\n",
       "      <td>cytochrome b</td>\n",
       "    </tr>\n",
       "    <tr>\n",
       "      <th>CYTB</th>\n",
       "      <td>10079857</td>\n",
       "      <td>cytochrome b</td>\n",
       "      <td>Rattus villosissimus</td>\n",
       "      <td>long-haired rat</td>\n",
       "      <td>10122</td>\n",
       "      <td>NC_014864.1:14134-15276</td>\n",
       "      <td>+</td>\n",
       "      <td>chr MT</td>\n",
       "      <td>PROTEIN_CODING</td>\n",
       "      <td>NaN</td>\n",
       "      <td>NaN</td>\n",
       "      <td>NaN</td>\n",
       "      <td>NaN</td>\n",
       "      <td>YP_004123323.1</td>\n",
       "      <td>NaN</td>\n",
       "      <td>380</td>\n",
       "      <td>cytochrome b</td>\n",
       "    </tr>\n",
       "    <tr>\n",
       "      <th>CYTB</th>\n",
       "      <td>10079923</td>\n",
       "      <td>cytochrome b</td>\n",
       "      <td>Rattus fuscipes</td>\n",
       "      <td>bush rat</td>\n",
       "      <td>10119</td>\n",
       "      <td>NC_014867.1:14131-15273</td>\n",
       "      <td>+</td>\n",
       "      <td>chr MT</td>\n",
       "      <td>PROTEIN_CODING</td>\n",
       "      <td>NaN</td>\n",
       "      <td>NaN</td>\n",
       "      <td>NaN</td>\n",
       "      <td>NaN</td>\n",
       "      <td>YP_004123362.1</td>\n",
       "      <td>NaN</td>\n",
       "      <td>380</td>\n",
       "      <td>cytochrome b</td>\n",
       "    </tr>\n",
       "  </tbody>\n",
       "</table>\n",
       "</div>"
      ],
      "text/plain": [
       "              gene_id   description            scientific_name  \\\n",
       "gene_symbol                                                      \n",
       "CYTB         10020650  cytochrome b  Panthera tigris amoyensis   \n",
       "CYTB         10079733  cytochrome b           Rattus lutreolus   \n",
       "CYTB         10079783  cytochrome b             Rattus tunneyi   \n",
       "CYTB         10079857  cytochrome b       Rattus villosissimus   \n",
       "CYTB         10079923  cytochrome b            Rattus fuscipes   \n",
       "\n",
       "                      common_name  tax_id            genomic_range  \\\n",
       "gene_symbol                                                          \n",
       "CYTB                   Amoy tiger  253258  NC_014770.1:15113-16252   \n",
       "CYTB         Australian swamp rat  472760  NC_014858.1:14137-15279   \n",
       "CYTB                 Tunney's rat   10121  NC_014861.1:14132-15274   \n",
       "CYTB              long-haired rat   10122  NC_014864.1:14134-15276   \n",
       "CYTB                     bush rat   10119  NC_014867.1:14131-15273   \n",
       "\n",
       "            orientation location       gene_type  transcript_accession  \\\n",
       "gene_symbol                                                              \n",
       "CYTB                  +   chr MT  PROTEIN_CODING                   NaN   \n",
       "CYTB                  +   chr MT  PROTEIN_CODING                   NaN   \n",
       "CYTB                  +   chr MT  PROTEIN_CODING                   NaN   \n",
       "CYTB                  +   chr MT  PROTEIN_CODING                   NaN   \n",
       "CYTB                  +   chr MT  PROTEIN_CODING                   NaN   \n",
       "\n",
       "             transcript_name  transcript_length  transcript_cds_coords  \\\n",
       "gene_symbol                                                              \n",
       "CYTB                     NaN                NaN                    NaN   \n",
       "CYTB                     NaN                NaN                    NaN   \n",
       "CYTB                     NaN                NaN                    NaN   \n",
       "CYTB                     NaN                NaN                    NaN   \n",
       "CYTB                     NaN                NaN                    NaN   \n",
       "\n",
       "            protein_accession  isoform_name  protein_length  protein_name  \n",
       "gene_symbol                                                                \n",
       "CYTB           YP_004062165.1           NaN             379  cytochrome b  \n",
       "CYTB           YP_004123242.1           NaN             380  cytochrome b  \n",
       "CYTB           YP_004123282.1           NaN             380  cytochrome b  \n",
       "CYTB           YP_004123323.1           NaN             380  cytochrome b  \n",
       "CYTB           YP_004123362.1           NaN             380  cytochrome b  "
      ]
     },
     "execution_count": 23,
     "metadata": {},
     "output_type": "execute_result"
    }
   ],
   "source": [
    "data_table_df = pd.read_csv(data_table, sep='\\t', index_col=1)\n",
    "data_table_df.head()"
   ]
  },
  {
   "cell_type": "code",
   "execution_count": 24,
   "metadata": {},
   "outputs": [
    {
     "data": {
      "text/html": [
       "<div>\n",
       "<style scoped>\n",
       "    .dataframe tbody tr th:only-of-type {\n",
       "        vertical-align: middle;\n",
       "    }\n",
       "\n",
       "    .dataframe tbody tr th {\n",
       "        vertical-align: top;\n",
       "    }\n",
       "\n",
       "    .dataframe thead th {\n",
       "        text-align: right;\n",
       "    }\n",
       "</style>\n",
       "<table border=\"1\" class=\"dataframe\">\n",
       "  <thead>\n",
       "    <tr style=\"text-align: right;\">\n",
       "      <th></th>\n",
       "      <th>transcript_length</th>\n",
       "      <th>protein_length</th>\n",
       "    </tr>\n",
       "  </thead>\n",
       "  <tbody>\n",
       "    <tr>\n",
       "      <th>count</th>\n",
       "      <td>0.0</td>\n",
       "      <td>1231.000000</td>\n",
       "    </tr>\n",
       "    <tr>\n",
       "      <th>mean</th>\n",
       "      <td>NaN</td>\n",
       "      <td>379.261576</td>\n",
       "    </tr>\n",
       "    <tr>\n",
       "      <th>std</th>\n",
       "      <td>NaN</td>\n",
       "      <td>0.717818</td>\n",
       "    </tr>\n",
       "    <tr>\n",
       "      <th>min</th>\n",
       "      <td>NaN</td>\n",
       "      <td>376.000000</td>\n",
       "    </tr>\n",
       "    <tr>\n",
       "      <th>25%</th>\n",
       "      <td>NaN</td>\n",
       "      <td>379.000000</td>\n",
       "    </tr>\n",
       "    <tr>\n",
       "      <th>50%</th>\n",
       "      <td>NaN</td>\n",
       "      <td>379.000000</td>\n",
       "    </tr>\n",
       "    <tr>\n",
       "      <th>75%</th>\n",
       "      <td>NaN</td>\n",
       "      <td>379.000000</td>\n",
       "    </tr>\n",
       "    <tr>\n",
       "      <th>max</th>\n",
       "      <td>NaN</td>\n",
       "      <td>385.000000</td>\n",
       "    </tr>\n",
       "  </tbody>\n",
       "</table>\n",
       "</div>"
      ],
      "text/plain": [
       "       transcript_length  protein_length\n",
       "count                0.0     1231.000000\n",
       "mean                 NaN      379.261576\n",
       "std                  NaN        0.717818\n",
       "min                  NaN      376.000000\n",
       "25%                  NaN      379.000000\n",
       "50%                  NaN      379.000000\n",
       "75%                  NaN      379.000000\n",
       "max                  NaN      385.000000"
      ]
     },
     "execution_count": 24,
     "metadata": {},
     "output_type": "execute_result"
    }
   ],
   "source": [
    "data_table_df[['transcript_length', 'protein_length']].describe()"
   ]
  },
  {
   "cell_type": "code",
   "execution_count": 25,
   "metadata": {},
   "outputs": [
    {
     "data": {
      "text/html": [
       "<div>\n",
       "<style scoped>\n",
       "    .dataframe tbody tr th:only-of-type {\n",
       "        vertical-align: middle;\n",
       "    }\n",
       "\n",
       "    .dataframe tbody tr th {\n",
       "        vertical-align: top;\n",
       "    }\n",
       "\n",
       "    .dataframe thead th {\n",
       "        text-align: right;\n",
       "    }\n",
       "</style>\n",
       "<table border=\"1\" class=\"dataframe\">\n",
       "  <thead>\n",
       "    <tr style=\"text-align: right;\">\n",
       "      <th></th>\n",
       "      <th>gene_id</th>\n",
       "      <th>description</th>\n",
       "      <th>scientific_name</th>\n",
       "      <th>common_name</th>\n",
       "      <th>tax_id</th>\n",
       "      <th>genomic_range</th>\n",
       "      <th>orientation</th>\n",
       "      <th>location</th>\n",
       "      <th>gene_type</th>\n",
       "      <th>transcript_accession</th>\n",
       "      <th>transcript_name</th>\n",
       "      <th>transcript_length</th>\n",
       "      <th>transcript_cds_coords</th>\n",
       "      <th>protein_accession</th>\n",
       "      <th>isoform_name</th>\n",
       "      <th>protein_length</th>\n",
       "      <th>protein_name</th>\n",
       "    </tr>\n",
       "    <tr>\n",
       "      <th>gene_symbol</th>\n",
       "      <th></th>\n",
       "      <th></th>\n",
       "      <th></th>\n",
       "      <th></th>\n",
       "      <th></th>\n",
       "      <th></th>\n",
       "      <th></th>\n",
       "      <th></th>\n",
       "      <th></th>\n",
       "      <th></th>\n",
       "      <th></th>\n",
       "      <th></th>\n",
       "      <th></th>\n",
       "      <th></th>\n",
       "      <th></th>\n",
       "      <th></th>\n",
       "      <th></th>\n",
       "    </tr>\n",
       "  </thead>\n",
       "  <tbody>\n",
       "    <tr>\n",
       "      <th>CYTB</th>\n",
       "      <td>10020650</td>\n",
       "      <td>cytochrome b</td>\n",
       "      <td>Panthera tigris amoyensis</td>\n",
       "      <td>Amoy tiger</td>\n",
       "      <td>253258</td>\n",
       "      <td>NC_014770.1:15113-16252</td>\n",
       "      <td>+</td>\n",
       "      <td>chr MT</td>\n",
       "      <td>PROTEIN_CODING</td>\n",
       "      <td>NaN</td>\n",
       "      <td>NaN</td>\n",
       "      <td>NaN</td>\n",
       "      <td>NaN</td>\n",
       "      <td>YP_004062165.1</td>\n",
       "      <td>NaN</td>\n",
       "      <td>379</td>\n",
       "      <td>cytochrome b</td>\n",
       "    </tr>\n",
       "    <tr>\n",
       "      <th>CYTB</th>\n",
       "      <td>10079733</td>\n",
       "      <td>cytochrome b</td>\n",
       "      <td>Rattus lutreolus</td>\n",
       "      <td>Australian swamp rat</td>\n",
       "      <td>472760</td>\n",
       "      <td>NC_014858.1:14137-15279</td>\n",
       "      <td>+</td>\n",
       "      <td>chr MT</td>\n",
       "      <td>PROTEIN_CODING</td>\n",
       "      <td>NaN</td>\n",
       "      <td>NaN</td>\n",
       "      <td>NaN</td>\n",
       "      <td>NaN</td>\n",
       "      <td>YP_004123242.1</td>\n",
       "      <td>NaN</td>\n",
       "      <td>380</td>\n",
       "      <td>cytochrome b</td>\n",
       "    </tr>\n",
       "    <tr>\n",
       "      <th>CYTB</th>\n",
       "      <td>10079783</td>\n",
       "      <td>cytochrome b</td>\n",
       "      <td>Rattus tunneyi</td>\n",
       "      <td>Tunney's rat</td>\n",
       "      <td>10121</td>\n",
       "      <td>NC_014861.1:14132-15274</td>\n",
       "      <td>+</td>\n",
       "      <td>chr MT</td>\n",
       "      <td>PROTEIN_CODING</td>\n",
       "      <td>NaN</td>\n",
       "      <td>NaN</td>\n",
       "      <td>NaN</td>\n",
       "      <td>NaN</td>\n",
       "      <td>YP_004123282.1</td>\n",
       "      <td>NaN</td>\n",
       "      <td>380</td>\n",
       "      <td>cytochrome b</td>\n",
       "    </tr>\n",
       "    <tr>\n",
       "      <th>CYTB</th>\n",
       "      <td>10079857</td>\n",
       "      <td>cytochrome b</td>\n",
       "      <td>Rattus villosissimus</td>\n",
       "      <td>long-haired rat</td>\n",
       "      <td>10122</td>\n",
       "      <td>NC_014864.1:14134-15276</td>\n",
       "      <td>+</td>\n",
       "      <td>chr MT</td>\n",
       "      <td>PROTEIN_CODING</td>\n",
       "      <td>NaN</td>\n",
       "      <td>NaN</td>\n",
       "      <td>NaN</td>\n",
       "      <td>NaN</td>\n",
       "      <td>YP_004123323.1</td>\n",
       "      <td>NaN</td>\n",
       "      <td>380</td>\n",
       "      <td>cytochrome b</td>\n",
       "    </tr>\n",
       "    <tr>\n",
       "      <th>CYTB</th>\n",
       "      <td>10079923</td>\n",
       "      <td>cytochrome b</td>\n",
       "      <td>Rattus fuscipes</td>\n",
       "      <td>bush rat</td>\n",
       "      <td>10119</td>\n",
       "      <td>NC_014867.1:14131-15273</td>\n",
       "      <td>+</td>\n",
       "      <td>chr MT</td>\n",
       "      <td>PROTEIN_CODING</td>\n",
       "      <td>NaN</td>\n",
       "      <td>NaN</td>\n",
       "      <td>NaN</td>\n",
       "      <td>NaN</td>\n",
       "      <td>YP_004123362.1</td>\n",
       "      <td>NaN</td>\n",
       "      <td>380</td>\n",
       "      <td>cytochrome b</td>\n",
       "    </tr>\n",
       "  </tbody>\n",
       "</table>\n",
       "</div>"
      ],
      "text/plain": [
       "              gene_id   description            scientific_name  \\\n",
       "gene_symbol                                                      \n",
       "CYTB         10020650  cytochrome b  Panthera tigris amoyensis   \n",
       "CYTB         10079733  cytochrome b           Rattus lutreolus   \n",
       "CYTB         10079783  cytochrome b             Rattus tunneyi   \n",
       "CYTB         10079857  cytochrome b       Rattus villosissimus   \n",
       "CYTB         10079923  cytochrome b            Rattus fuscipes   \n",
       "\n",
       "                      common_name  tax_id            genomic_range  \\\n",
       "gene_symbol                                                          \n",
       "CYTB                   Amoy tiger  253258  NC_014770.1:15113-16252   \n",
       "CYTB         Australian swamp rat  472760  NC_014858.1:14137-15279   \n",
       "CYTB                 Tunney's rat   10121  NC_014861.1:14132-15274   \n",
       "CYTB              long-haired rat   10122  NC_014864.1:14134-15276   \n",
       "CYTB                     bush rat   10119  NC_014867.1:14131-15273   \n",
       "\n",
       "            orientation location       gene_type  transcript_accession  \\\n",
       "gene_symbol                                                              \n",
       "CYTB                  +   chr MT  PROTEIN_CODING                   NaN   \n",
       "CYTB                  +   chr MT  PROTEIN_CODING                   NaN   \n",
       "CYTB                  +   chr MT  PROTEIN_CODING                   NaN   \n",
       "CYTB                  +   chr MT  PROTEIN_CODING                   NaN   \n",
       "CYTB                  +   chr MT  PROTEIN_CODING                   NaN   \n",
       "\n",
       "             transcript_name  transcript_length  transcript_cds_coords  \\\n",
       "gene_symbol                                                              \n",
       "CYTB                     NaN                NaN                    NaN   \n",
       "CYTB                     NaN                NaN                    NaN   \n",
       "CYTB                     NaN                NaN                    NaN   \n",
       "CYTB                     NaN                NaN                    NaN   \n",
       "CYTB                     NaN                NaN                    NaN   \n",
       "\n",
       "            protein_accession  isoform_name  protein_length  protein_name  \n",
       "gene_symbol                                                                \n",
       "CYTB           YP_004062165.1           NaN             379  cytochrome b  \n",
       "CYTB           YP_004123242.1           NaN             380  cytochrome b  \n",
       "CYTB           YP_004123282.1           NaN             380  cytochrome b  \n",
       "CYTB           YP_004123323.1           NaN             380  cytochrome b  \n",
       "CYTB           YP_004123362.1           NaN             380  cytochrome b  "
      ]
     },
     "execution_count": 25,
     "metadata": {},
     "output_type": "execute_result"
    }
   ],
   "source": [
    "## filter sequences that are either too long or too short\n",
    "\n",
    "min_len = 350\n",
    "max_len = 400\n",
    "\n",
    "rightlength = data_table_df.loc[(data_table_df['protein_length'] > min_len) & (data_table_df['protein_length'] < max_len)]\n",
    "rightlength.to_csv(data_table, sep='\\t')\n",
    "rightlength.head()\n"
   ]
  },
  {
   "cell_type": "markdown",
   "metadata": {},
   "source": [
    "## Extract sequences from specific taxonomic group(s) for further analysis\n",
    "\n",
    "Analyzing all of the sequences using all-vs-all BLAST is time-consuming. In this step, we will group the sequences into broad taxonomic groups for further analysis. "
   ]
  },
  {
   "cell_type": "code",
   "execution_count": 26,
   "metadata": {
    "tags": []
   },
   "outputs": [
    {
     "name": "stdout",
     "output_type": "stream",
     "text": [
      "['9254,311790,1437010']\n"
     ]
    }
   ],
   "source": [
    "acclist_for_blast = 'acclist_for_blast.tsv'\n",
    "taxids = !cut -f2 example_data/tax_nodes.tsv | head -n 3 | paste -s -d ','\n",
    "print(taxids)"
   ]
  },
  {
   "cell_type": "code",
   "execution_count": 27,
   "metadata": {
    "tags": []
   },
   "outputs": [
    {
     "name": "stdout",
     "output_type": "stream",
     "text": [
      "9254\t3\r\n",
      "311790\t19\r\n",
      "1437010\t1135\r\n"
     ]
    }
   ],
   "source": [
    "!python3 scripts/seqids_by_taxa.py --bdbag {bdbag} --taxids {taxids[0]} --output {acclist_for_blast} --email {email}"
   ]
  },
  {
   "cell_type": "markdown",
   "metadata": {},
   "source": [
    "## Run all-vs-all BLAST"
   ]
  },
  {
   "cell_type": "code",
   "execution_count": 28,
   "metadata": {
    "tags": []
   },
   "outputs": [
    {
     "name": "stdout",
     "output_type": "stream",
     "text": [
      "Number of taxids in acclist_for_blast.tsv: 3\n",
      "Processing 1437010\n",
      "Tue Oct 27 14:16:10 EDT 2020 Filtering protein fasta...\n",
      "Tue Oct 27 14:16:11 EDT 2020 Create a BLAST database...\n",
      "\n",
      "\n",
      "Building a new DB, current time: 10/27/2020 14:16:11\n",
      "New DB name:   /home/mcveigh/notebook/Marker-Gene-Validator/1437010_blastdb\n",
      "New DB title:  1437010_input.fa\n",
      "Sequence type: Protein\n",
      "Deleted existing Protein BLAST database named /home/mcveigh/notebook/Marker-Gene-Validator/1437010_blastdb\n",
      "Keep MBits: T\n",
      "Maximum file size: 1000000000B\n",
      "Adding sequences from FASTA; added 1135 sequences in 0.0849681 seconds.\n",
      "\n",
      "\n",
      "Tue Oct 27 14:16:12 EDT 2020 Running all-vs-all blast...\n",
      "Tue Oct 27 14:18:37 EDT 2020 Generating blast tabular output...\n",
      "Tue Oct 27 14:19:25 EDT 2020 Generating blast seq-align asn...\n",
      "Processing 311790\n",
      "Tue Oct 27 14:19:41 EDT 2020 Filtering protein fasta...\n",
      "Tue Oct 27 14:19:41 EDT 2020 Create a BLAST database...\n",
      "\n",
      "\n",
      "Building a new DB, current time: 10/27/2020 14:19:41\n",
      "New DB name:   /home/mcveigh/notebook/Marker-Gene-Validator/311790_blastdb\n",
      "New DB title:  311790_input.fa\n",
      "Sequence type: Protein\n",
      "Keep MBits: T\n",
      "Maximum file size: 1000000000B\n",
      "Adding sequences from FASTA; added 19 sequences in 0.0246751 seconds.\n",
      "\n",
      "\n",
      "Tue Oct 27 14:19:42 EDT 2020 Running all-vs-all blast...\n",
      "Tue Oct 27 14:19:42 EDT 2020 Generating blast tabular output...\n",
      "Tue Oct 27 14:19:42 EDT 2020 Generating blast seq-align asn...\n",
      "Processing 9254\n",
      "Tue Oct 27 14:19:42 EDT 2020 Filtering protein fasta...\n",
      "Tue Oct 27 14:19:42 EDT 2020 Create a BLAST database...\n",
      "\n",
      "\n",
      "Building a new DB, current time: 10/27/2020 14:19:42\n",
      "New DB name:   /home/mcveigh/notebook/Marker-Gene-Validator/9254_blastdb\n",
      "New DB title:  9254_input.fa\n",
      "Sequence type: Protein\n",
      "Deleted existing Protein BLAST database named /home/mcveigh/notebook/Marker-Gene-Validator/9254_blastdb\n",
      "Keep MBits: T\n",
      "Maximum file size: 1000000000B\n",
      "Adding sequences from FASTA; added 3 sequences in 0.0271208 seconds.\n",
      "\n",
      "\n",
      "Tue Oct 27 14:19:42 EDT 2020 Running all-vs-all blast...\n",
      "Tue Oct 27 14:19:42 EDT 2020 Generating blast tabular output...\n",
      "Tue Oct 27 14:19:43 EDT 2020 Generating blast seq-align asn...\n"
     ]
    }
   ],
   "source": [
    "!scripts/blast_all.sh -b {bdbag} -a {acclist_for_blast} -t 6"
   ]
  },
  {
   "cell_type": "markdown",
   "metadata": {},
   "source": [
    "## Evaluate BLAST results and filter data"
   ]
  },
  {
   "cell_type": "code",
   "execution_count": 30,
   "metadata": {},
   "outputs": [],
   "source": [
    "%%bash -s {acclist_for_blast}\n",
    "\n",
    "acclist_for_blast=$1\n",
    "final_acclist='final_acclist.txt'\n",
    "\n",
    "cut -f1 ${acclist_for_blast} | while read -r txid ; do \n",
    "    tbl=$(echo ${txid} | sed 's/$/_output.tsv/') ;\n",
    "    python3 scripts/blastfilter.py -i ${tbl} --pident 98 --qcov 99 >> ${final_acclist};\n",
    "done"
   ]
  },
  {
   "cell_type": "markdown",
   "metadata": {},
   "source": [
    "## Create final BLAST database"
   ]
  },
  {
   "cell_type": "code",
   "execution_count": 33,
   "metadata": {},
   "outputs": [],
   "source": [
    "final_acclist = 'final_acclist.txt'\n",
    "filename_prefix = 'cytb_genes'"
   ]
  },
  {
   "cell_type": "code",
   "execution_count": 34,
   "metadata": {
    "tags": []
   },
   "outputs": [
    {
     "name": "stdout",
     "output_type": "stream",
     "text": [
      "Tue Oct 27 16:23:29 EDT 2020 Filtering protein fasta...\n",
      "Tue Oct 27 16:23:30 EDT 2020 Create a BLAST database...\n",
      "\n",
      "\n",
      "Building a new DB, current time: 10/27/2020 16:23:30\n",
      "New DB name:   /home/mcveigh/notebook/Marker-Gene-Validator/cytb_genes_blastdb\n",
      "New DB title:  cytb_genes.fasta\n",
      "Sequence type: Protein\n",
      "Deleted existing Protein BLAST database named /home/mcveigh/notebook/Marker-Gene-Validator/cytb_genes_blastdb\n",
      "Keep MBits: T\n",
      "Maximum file size: 1000000000B\n",
      "Adding sequences from FASTA; added 74 sequences in 0.037137 seconds.\n",
      "\n",
      "\n"
     ]
    }
   ],
   "source": [
    "!scripts/make_finaldb.sh -b {bdbag} -a {final_acclist} -p {filename_prefix} -t 6"
   ]
  },
  {
   "cell_type": "code",
   "execution_count": null,
   "metadata": {},
   "outputs": [],
   "source": []
  }
 ],
 "metadata": {
  "kernelspec": {
   "display_name": "Python 3",
   "language": "python",
   "name": "python3"
  },
  "language_info": {
   "codemirror_mode": {
    "name": "ipython",
    "version": 3
   },
   "file_extension": ".py",
   "mimetype": "text/x-python",
   "name": "python",
   "nbconvert_exporter": "python",
   "pygments_lexer": "ipython3",
   "version": "3.7.3"
  }
 },
 "nbformat": 4,
 "nbformat_minor": 2
}
