{
 "cells": [
  {
   "cell_type": "markdown",
   "metadata": {},
   "source": [
    "# Marker gene database maker\n",
    "The purpose of this jupyter notebook is to run through a workflow of creating a blast database containing protein sequences of a given gene from a wide range of taxonomic groups that can be used to validate newly submitted sequences against. \n",
    "\n",
    "Broadly, this process involves the following steps: \n",
    "\n",
    "1. Starting with an Entrez query for the Gene database, download sequences and metadata for genes, transcripts and proteins using NCBI Datasets\n",
    "2. Parse the data archive from step 1 to tabulate names and symbols for review\n",
    "3. Parse the data archive from step 1 to tabulate variability in the sequence lengths for review \n",
    "4. Given a set of taxonomic group identifiers, tabulate the number of sequences for each group that are present in the data archive\n",
    "5. Extract sequences from each taxonomic node and generate all-vs-all BLAST alignments \n",
    "6. Review the BLAST tabular output to make a list of accessions that are outliers or incorrect that need to be removed from the final BLAST database \n",
    "7. Generate a final BLAST database that can be used with VADR and other tools for validating newly submitted sequences."
   ]
  },
  {
   "cell_type": "markdown",
   "metadata": {},
   "source": [
    "## Download data\n",
    "\n",
    "Sequence and metadata are downloaded using NCBI Datasets using an Entrez query provided by the user. "
   ]
  },
  {
   "cell_type": "code",
   "execution_count": 28,
   "metadata": {},
   "outputs": [],
   "source": [
    "## specify Entrez query and output filename\n",
    "entrez_query = 'metazoa [ORGN] AND cytb [GENE] AND source mitochondrion [PROP] NOT rnatype mrna [PROP] NOT srcdb pdb [PROP] NOT uncultured NOT unverified'\n",
    "email = 'kodalivk@ncbi.nlm.nih.gov'\n",
    "output_file = 'ncbi_dataset.zip'"
   ]
  },
  {
   "cell_type": "code",
   "execution_count": 29,
   "metadata": {},
   "outputs": [],
   "source": [
    "import scripts.obtain_gene_datasets as dl\n",
    "\n",
    "gene_ids_file = 'gene_ids.txt'\n",
    "dl.populate_gene_ids_file(entrez_query, email, gene_ids_file)\n",
    "json_data = dl.format_file_data_into_json(gene_ids_file)\n",
    "dl.obtain_gene_datasets(json_data, output_file)"
   ]
  },
  {
   "cell_type": "markdown",
   "metadata": {},
   "source": [
    "## Unzip Datasets archive"
   ]
  },
  {
   "cell_type": "code",
   "execution_count": 32,
   "metadata": {
    "tags": []
   },
   "outputs": [
    {
     "output_type": "stream",
     "name": "stdout",
     "text": "Archive:  ncbi_dataset.zip\n  inflating: ncbi_dataset/bagit.txt  \n  inflating: README.md               \n  inflating: ncbi_dataset/data/gene.fna\n  inflating: ncbi_dataset/data/rna.fna\n  inflating: ncbi_dataset/data/protein.faa\n  inflating: ncbi_dataset/data/data_report.yaml\n  inflating: ncbi_dataset/data/data_table.tsv  \n  inflating: ncbi_dataset/data/dataset_catalog.json  \n  inflating: ncbi_dataset/fetch.txt  \n  inflating: ncbi_dataset/bag-info.txt  \n  inflating: ncbi_dataset/manifest-md5.txt  \n  inflating: ncbi_dataset/tagmanifest-md5.txt  \n"
    }
   ],
   "source": [
    "!unzip {output_file}"
   ]
  },
  {
   "cell_type": "markdown",
   "metadata": {},
   "source": [
    "## Interlude\n",
    "\n",
    "The `data_table.tsv` file has a lot of rows that use comma as delimiter instead of tab. This bug in Datasets will be fixed in the future but for now, the following steps are needed to prepare `data_table.tsv` for downstream steps. "
   ]
  },
  {
   "cell_type": "code",
   "execution_count": 83,
   "metadata": {},
   "outputs": [],
   "source": [
    "bdbag = 'ncbi_dataset/'\n",
    "data_table = bdbag + 'data/data_table.tsv'"
   ]
  },
  {
   "cell_type": "code",
   "execution_count": 70,
   "metadata": {
    "tags": []
   },
   "outputs": [],
   "source": [
    "%%bash -s {data_table}\n",
    "\n",
    "data_table=$1\n",
    "\n",
    "# replace all cases of ', ' (comma + space) with a semi-colon\n",
    "# they are all legitimate uses of comma\n",
    "sed -i '/\\t/! s/, /%2C/g' ${data_table}\n",
    "\n",
    "# if a tab character is not found in line, replace commas with tab\n",
    "sed -i '/\\t/! s/,/\\t/g' ${data_table}\n",
    "\n",
    "# change all instances of 3 consecutive semi-colons to comma\n",
    "sed -i 's/%2C/, /g' ${data_table}\n",
    "\n",
    "# check to make sure all rows have 18 fields only\n",
    "# if everything worked, there should not be any output for this command \n",
    "awk 'BEGIN{FS=\"\\t\";OFS=\"\\t\"}(NF!=18){print NF,$0}' ${data_table}"
   ]
  },
  {
   "cell_type": "markdown",
   "metadata": {},
   "source": [
    "## Tabulate unique names"
   ]
  },
  {
   "cell_type": "code",
   "execution_count": 71,
   "metadata": {},
   "outputs": [],
   "source": [
    "gene_names = 'gene_names.tsv'"
   ]
  },
  {
   "cell_type": "code",
   "execution_count": 72,
   "metadata": {
    "tags": []
   },
   "outputs": [],
   "source": [
    "%%bash -s {data_table} {gene_names}\n",
    "\n",
    "data_table=$1\n",
    "gene_names=$2\n",
    "\n",
    "python3 scripts/unique.py ${data_table} > ${gene_names}"
   ]
  },
  {
   "cell_type": "code",
   "execution_count": 73,
   "metadata": {
    "tags": []
   },
   "outputs": [
    {
     "output_type": "display_data",
     "data": {
      "text/plain": "                          Gene Name  Count     Gene IDs\n1                              CYTB   9353          NaN\n2                            MT-CYB      2  140512,4519\n3                           MT-CYTB      2  17711,26192\n0  NAME: CYTOCHROMEB, MITOCHONDRIAL      1     41954867",
      "text/html": "<div>\n<style scoped>\n    .dataframe tbody tr th:only-of-type {\n        vertical-align: middle;\n    }\n\n    .dataframe tbody tr th {\n        vertical-align: top;\n    }\n\n    .dataframe thead th {\n        text-align: right;\n    }\n</style>\n<table border=\"1\" class=\"dataframe\">\n  <thead>\n    <tr style=\"text-align: right;\">\n      <th></th>\n      <th>Gene Name</th>\n      <th>Count</th>\n      <th>Gene IDs</th>\n    </tr>\n  </thead>\n  <tbody>\n    <tr>\n      <th>1</th>\n      <td>CYTB</td>\n      <td>9353</td>\n      <td>NaN</td>\n    </tr>\n    <tr>\n      <th>2</th>\n      <td>MT-CYB</td>\n      <td>2</td>\n      <td>140512,4519</td>\n    </tr>\n    <tr>\n      <th>3</th>\n      <td>MT-CYTB</td>\n      <td>2</td>\n      <td>17711,26192</td>\n    </tr>\n    <tr>\n      <th>0</th>\n      <td>NAME: CYTOCHROMEB, MITOCHONDRIAL</td>\n      <td>1</td>\n      <td>41954867</td>\n    </tr>\n  </tbody>\n</table>\n</div>"
     },
     "metadata": {}
    }
   ],
   "source": [
    "import pandas as pd \n",
    "\n",
    "df = pd.read_csv(gene_names, sep='\\t', header=None, names=['Gene Name', 'Count', 'Gene IDs'])\n",
    "display(df.sort_values(by=['Count'], ascending=False))"
   ]
  },
  {
   "cell_type": "markdown",
   "metadata": {},
   "source": [
    "## Identify outliers based on protein size"
   ]
  },
  {
   "cell_type": "code",
   "execution_count": 75,
   "metadata": {},
   "outputs": [
    {
     "output_type": "execute_result",
     "data": {
      "text/plain": "              gene_id   description            scientific_name  \\\ngene_symbol                                                      \nCYTB         10002870  cytochrome b       Entoria okinawaensis   \nCYTB         10007423  cytochrome b    Protopterus aethiopicus   \nCYTB         10020612  cytochrome b       Taenia taeniaeformis   \nCYTB         10020636  cytochrome b          Cuora amboinensis   \nCYTB         10020650  cytochrome b  Panthera tigris amoyensis   \n\n                       common_name  tax_id            genomic_range  \\\ngene_symbol                                                           \nCYTB         Okinawa walking stick  590984  NC_014694.1:10236-11367   \nCYTB              marbled lungfish    7886  NC_014764.2:14186-15325   \nCYTB                           NaN    6205    NC_014768.1:3137-4183   \nCYTB            Amboina box turtle   74909  NC_014769.1:14242-15381   \nCYTB                    Amoy tiger  253258  NC_014770.1:15113-16252   \n\n            orientation location       gene_type transcript_accession  \\\ngene_symbol                                                             \nCYTB                  +      NaN  PROTEIN_CODING          NC_014694.1   \nCYTB                  +      NaN  PROTEIN_CODING          NC_014764.2   \nCYTB                  +      NaN  PROTEIN_CODING          NC_014768.1   \nCYTB                  +      NaN  PROTEIN_CODING          NC_014769.1   \nCYTB                  +      NaN  PROTEIN_CODING          NC_014770.1   \n\n            transcript_name  transcript_length  transcript_cds_coords  \\\ngene_symbol                                                             \nCYTB           cytochrome b              377.0                    NaN   \nCYTB           cytochrome b              379.0                    NaN   \nCYTB           cytochrome b              348.0                    NaN   \nCYTB           cytochrome b              379.0                    NaN   \nCYTB           cytochrome b              379.0                    NaN   \n\n            protein_accession  isoform_name  protein_length  \\\ngene_symbol                                                   \nCYTB           YP_004021616.1           NaN           377.0   \nCYTB           YP_004061423.1           NaN           379.0   \nCYTB           YP_004062130.1           NaN           348.0   \nCYTB           YP_004062152.1           NaN           379.0   \nCYTB           YP_004062165.1           NaN           379.0   \n\n                                         protein_name  \ngene_symbol                                            \nCYTB              cytochrome b [Entoria okinawaensis]  \nCYTB           cytochrome b [Protopterus aethiopicus]  \nCYTB              cytochrome b [Taenia taeniaeformis]  \nCYTB                 cytochrome b [Cuora amboinensis]  \nCYTB         cytochrome b [Panthera tigris amoyensis]  ",
      "text/html": "<div>\n<style scoped>\n    .dataframe tbody tr th:only-of-type {\n        vertical-align: middle;\n    }\n\n    .dataframe tbody tr th {\n        vertical-align: top;\n    }\n\n    .dataframe thead th {\n        text-align: right;\n    }\n</style>\n<table border=\"1\" class=\"dataframe\">\n  <thead>\n    <tr style=\"text-align: right;\">\n      <th></th>\n      <th>gene_id</th>\n      <th>description</th>\n      <th>scientific_name</th>\n      <th>common_name</th>\n      <th>tax_id</th>\n      <th>genomic_range</th>\n      <th>orientation</th>\n      <th>location</th>\n      <th>gene_type</th>\n      <th>transcript_accession</th>\n      <th>transcript_name</th>\n      <th>transcript_length</th>\n      <th>transcript_cds_coords</th>\n      <th>protein_accession</th>\n      <th>isoform_name</th>\n      <th>protein_length</th>\n      <th>protein_name</th>\n    </tr>\n    <tr>\n      <th>gene_symbol</th>\n      <th></th>\n      <th></th>\n      <th></th>\n      <th></th>\n      <th></th>\n      <th></th>\n      <th></th>\n      <th></th>\n      <th></th>\n      <th></th>\n      <th></th>\n      <th></th>\n      <th></th>\n      <th></th>\n      <th></th>\n      <th></th>\n      <th></th>\n    </tr>\n  </thead>\n  <tbody>\n    <tr>\n      <th>CYTB</th>\n      <td>10002870</td>\n      <td>cytochrome b</td>\n      <td>Entoria okinawaensis</td>\n      <td>Okinawa walking stick</td>\n      <td>590984</td>\n      <td>NC_014694.1:10236-11367</td>\n      <td>+</td>\n      <td>NaN</td>\n      <td>PROTEIN_CODING</td>\n      <td>NC_014694.1</td>\n      <td>cytochrome b</td>\n      <td>377.0</td>\n      <td>NaN</td>\n      <td>YP_004021616.1</td>\n      <td>NaN</td>\n      <td>377.0</td>\n      <td>cytochrome b [Entoria okinawaensis]</td>\n    </tr>\n    <tr>\n      <th>CYTB</th>\n      <td>10007423</td>\n      <td>cytochrome b</td>\n      <td>Protopterus aethiopicus</td>\n      <td>marbled lungfish</td>\n      <td>7886</td>\n      <td>NC_014764.2:14186-15325</td>\n      <td>+</td>\n      <td>NaN</td>\n      <td>PROTEIN_CODING</td>\n      <td>NC_014764.2</td>\n      <td>cytochrome b</td>\n      <td>379.0</td>\n      <td>NaN</td>\n      <td>YP_004061423.1</td>\n      <td>NaN</td>\n      <td>379.0</td>\n      <td>cytochrome b [Protopterus aethiopicus]</td>\n    </tr>\n    <tr>\n      <th>CYTB</th>\n      <td>10020612</td>\n      <td>cytochrome b</td>\n      <td>Taenia taeniaeformis</td>\n      <td>NaN</td>\n      <td>6205</td>\n      <td>NC_014768.1:3137-4183</td>\n      <td>+</td>\n      <td>NaN</td>\n      <td>PROTEIN_CODING</td>\n      <td>NC_014768.1</td>\n      <td>cytochrome b</td>\n      <td>348.0</td>\n      <td>NaN</td>\n      <td>YP_004062130.1</td>\n      <td>NaN</td>\n      <td>348.0</td>\n      <td>cytochrome b [Taenia taeniaeformis]</td>\n    </tr>\n    <tr>\n      <th>CYTB</th>\n      <td>10020636</td>\n      <td>cytochrome b</td>\n      <td>Cuora amboinensis</td>\n      <td>Amboina box turtle</td>\n      <td>74909</td>\n      <td>NC_014769.1:14242-15381</td>\n      <td>+</td>\n      <td>NaN</td>\n      <td>PROTEIN_CODING</td>\n      <td>NC_014769.1</td>\n      <td>cytochrome b</td>\n      <td>379.0</td>\n      <td>NaN</td>\n      <td>YP_004062152.1</td>\n      <td>NaN</td>\n      <td>379.0</td>\n      <td>cytochrome b [Cuora amboinensis]</td>\n    </tr>\n    <tr>\n      <th>CYTB</th>\n      <td>10020650</td>\n      <td>cytochrome b</td>\n      <td>Panthera tigris amoyensis</td>\n      <td>Amoy tiger</td>\n      <td>253258</td>\n      <td>NC_014770.1:15113-16252</td>\n      <td>+</td>\n      <td>NaN</td>\n      <td>PROTEIN_CODING</td>\n      <td>NC_014770.1</td>\n      <td>cytochrome b</td>\n      <td>379.0</td>\n      <td>NaN</td>\n      <td>YP_004062165.1</td>\n      <td>NaN</td>\n      <td>379.0</td>\n      <td>cytochrome b [Panthera tigris amoyensis]</td>\n    </tr>\n  </tbody>\n</table>\n</div>"
     },
     "metadata": {},
     "execution_count": 75
    }
   ],
   "source": [
    "data_table_df = pd.read_csv(data_table, sep='\\t', index_col=1)\n",
    "data_table_df.head()"
   ]
  },
  {
   "cell_type": "code",
   "execution_count": 82,
   "metadata": {},
   "outputs": [
    {
     "output_type": "execute_result",
     "data": {
      "text/plain": "       transcript_length  protein_length\ncount        9315.000000     9315.000000\nmean          378.693398      378.693398\nstd             5.964827        5.964827\nmin           249.000000      249.000000\n25%           378.000000      378.000000\n50%           380.000000      380.000000\n75%           380.000000      380.000000\nmax           530.000000      530.000000",
      "text/html": "<div>\n<style scoped>\n    .dataframe tbody tr th:only-of-type {\n        vertical-align: middle;\n    }\n\n    .dataframe tbody tr th {\n        vertical-align: top;\n    }\n\n    .dataframe thead th {\n        text-align: right;\n    }\n</style>\n<table border=\"1\" class=\"dataframe\">\n  <thead>\n    <tr style=\"text-align: right;\">\n      <th></th>\n      <th>transcript_length</th>\n      <th>protein_length</th>\n    </tr>\n  </thead>\n  <tbody>\n    <tr>\n      <th>count</th>\n      <td>9315.000000</td>\n      <td>9315.000000</td>\n    </tr>\n    <tr>\n      <th>mean</th>\n      <td>378.693398</td>\n      <td>378.693398</td>\n    </tr>\n    <tr>\n      <th>std</th>\n      <td>5.964827</td>\n      <td>5.964827</td>\n    </tr>\n    <tr>\n      <th>min</th>\n      <td>249.000000</td>\n      <td>249.000000</td>\n    </tr>\n    <tr>\n      <th>25%</th>\n      <td>378.000000</td>\n      <td>378.000000</td>\n    </tr>\n    <tr>\n      <th>50%</th>\n      <td>380.000000</td>\n      <td>380.000000</td>\n    </tr>\n    <tr>\n      <th>75%</th>\n      <td>380.000000</td>\n      <td>380.000000</td>\n    </tr>\n    <tr>\n      <th>max</th>\n      <td>530.000000</td>\n      <td>530.000000</td>\n    </tr>\n  </tbody>\n</table>\n</div>"
     },
     "metadata": {},
     "execution_count": 82
    }
   ],
   "source": [
    "data_table_df[['transcript_length', 'protein_length']].describe()"
   ]
  },
  {
   "cell_type": "markdown",
   "metadata": {},
   "source": [
    "## Extract sequences from specific taxonomic group(s) for further analysis\n",
    "\n",
    "Analyzing all of the sequences using all-vs-all BLAST is time-consuming. In this step, we will group the sequences into broad taxonomic groups for further analysis. "
   ]
  },
  {
   "cell_type": "code",
   "execution_count": 88,
   "metadata": {
    "tags": []
   },
   "outputs": [
    {
     "output_type": "stream",
     "name": "stdout",
     "text": "['6073,10226,6042']\n"
    }
   ],
   "source": [
    "acclist_for_blast = 'acclist_for_blast.tsv'\n",
    "taxids = !cut -f2 example_data/tax_nodes.tsv | head -n 3 | paste -s -d ','\n",
    "print(taxids)"
   ]
  },
  {
   "cell_type": "code",
   "execution_count": 92,
   "metadata": {},
   "outputs": [],
   "source": [
    "!python3 scripts/seqids_by_taxa.py --bdbag {bdbag} --taxids {taxids[0]} --output {acclist_for_blast} --email {email}"
   ]
  },
  {
   "cell_type": "code",
   "execution_count": null,
   "metadata": {},
   "outputs": [],
   "source": []
  }
 ],
 "metadata": {
  "language_info": {
   "codemirror_mode": {
    "name": "ipython",
    "version": 3
   },
   "file_extension": ".py",
   "mimetype": "text/x-python",
   "name": "python",
   "nbconvert_exporter": "python",
   "pygments_lexer": "ipython3",
   "version": "3.7.3-final"
  },
  "orig_nbformat": 2,
  "kernelspec": {
   "name": "python37364bitpy3virtualenvdfaa056ebe1b448cb55a2aa0420c8524",
   "display_name": "Python 3.7.3 64-bit ('py3': virtualenv)"
  }
 },
 "nbformat": 4,
 "nbformat_minor": 2
}